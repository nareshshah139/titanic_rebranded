{
 "cells": [
  {
   "cell_type": "code",
   "execution_count": 2,
   "metadata": {
    "collapsed": false
   },
   "outputs": [
    {
     "data": {
      "text/plain": [
       "[{'Age': '22',\n",
       "  'Cabin': '',\n",
       "  'Embarked': 'S',\n",
       "  'Fare': '7.25',\n",
       "  'Name': 'Braund, Mr. Owen Harris',\n",
       "  'Parch': '0',\n",
       "  'PassengerId': '1',\n",
       "  'Pclass': '3',\n",
       "  'Sex': 'male',\n",
       "  'SibSp': '1',\n",
       "  'Survived': '0',\n",
       "  'Ticket': 'A/5 21171'}]"
      ]
     },
     "execution_count": 2,
     "metadata": {},
     "output_type": "execute_result"
    }
   ],
   "source": [
    "import csv\n",
    "import numpy as np\n",
    "\n",
    "with open('titanic-train.csv', 'rt') as f:\n",
    "    data = list(csv.DictReader(f))\n",
    "data[:1]"
   ]
  },
  {
   "cell_type": "code",
   "execution_count": 3,
   "metadata": {
    "collapsed": false
   },
   "outputs": [
    {
     "name": "stdout",
     "output_type": "stream",
     "text": [
      "891 items total, 38.4% true\n"
     ]
    }
   ],
   "source": [
    "from sklearn.utils import shuffle\n",
    "from sklearn.model_selection import train_test_split\n",
    "\n",
    "_all_xs = [{k: v for k, v in row.items() if k != 'Survived'} for row in data]\n",
    "_all_ys = np.array([int(row['Survived']) for row in data])\n",
    "\n",
    "all_xs, all_ys = shuffle(_all_xs, _all_ys, random_state=0)\n",
    "train_xs, valid_xs, train_ys, valid_ys = train_test_split(\n",
    "    all_xs, all_ys, test_size=0.25, random_state=0)\n",
    "print('{} items total, {:.1%} true'.format(len(all_xs), np.mean(all_ys)))"
   ]
  },
  {
   "cell_type": "code",
   "execution_count": 4,
   "metadata": {
    "collapsed": true
   },
   "outputs": [],
   "source": [
    "for x in all_xs:\n",
    "    if x['Age']:\n",
    "        x['Age'] = float(x['Age'])\n",
    "    else:\n",
    "        x.pop('Age')\n",
    "    x['Fare'] = float(x['Fare'])\n",
    "    x['SibSp'] = int(x['SibSp'])\n",
    "    x['Parch'] = int(x['Parch'])"
   ]
  },
  {
   "cell_type": "code",
   "execution_count": 5,
   "metadata": {
    "collapsed": false
   },
   "outputs": [
    {
     "name": "stdout",
     "output_type": "stream",
     "text": [
      "Accuracy: 0.823 ± 0.071\n"
     ]
    }
   ],
   "source": [
    "import warnings\n",
    "# xgboost <= 0.6a2 shows a warning when used with scikit-learn 0.18+\n",
    "warnings.filterwarnings('ignore', category=DeprecationWarning)\n",
    "from xgboost import XGBClassifier\n",
    "from sklearn.feature_extraction import DictVectorizer\n",
    "from sklearn.pipeline import make_pipeline\n",
    "from sklearn.model_selection import cross_val_score\n",
    "\n",
    "\n",
    "clf = XGBClassifier()\n",
    "vec = DictVectorizer()\n",
    "pipeline = make_pipeline(vec, clf)\n",
    "\n",
    "def evaluate(_clf):\n",
    "    scores = cross_val_score(_clf, all_xs, all_ys, scoring='accuracy', cv=10)\n",
    "    print('Accuracy: {:.3f} ± {:.3f}'.format(np.mean(scores), 2 * np.std(scores)))\n",
    "    _clf.fit(train_xs, train_ys)  # so that parts of the original pipeline are fitted\n",
    "\n",
    "evaluate(pipeline)"
   ]
  },
  {
   "cell_type": "code",
   "execution_count": 6,
   "metadata": {
    "collapsed": false
   },
   "outputs": [
    {
     "name": "stdout",
     "output_type": "stream",
     "text": [
      "0:[Sex=female<-9.53674e-07] yes=1,no=2,missing=1\n",
      "\t1:[Age<13] yes=3,no=4,missing=4\n",
      "\t\t3:[SibSp<2] yes=7,no=8,missing=7\n",
      "\t\t\t7:leaf=0.145455\n",
      "\t\t\t8:leaf=-0.125\n",
      "\t\t4:[Fare<26.2687] yes=9,no=10,missing=9\n",
      "\t\t\t9:leaf=-0.151515\n",
      "\t\t\t10:leaf=-0.0727273\n",
      "\t2:[Pclass=3<-9.53674e-07] yes=5,no=6,missing=5\n",
      "\t\t5:[Fare<12.175] yes=11,no=12,missing=12\n",
      "\t\t\t11:leaf=0.05\n",
      "\t\t\t12:leaf=0.175194\n",
      "\t\t6:[Fare<24.8083] yes=13,no=14,missing=14\n",
      "\t\t\t13:leaf=0.0365591\n",
      "\t\t\t14:leaf=-0.152\n",
      "\n"
     ]
    }
   ],
   "source": [
    "booster = clf.booster()\n",
    "original_feature_names = booster.feature_names\n",
    "booster.feature_names = vec.get_feature_names()\n",
    "print(booster.get_dump()[0])\n",
    "# recover original feature names\n",
    "booster.feature_names = original_feature_names"
   ]
  },
  {
   "cell_type": "code",
   "execution_count": 7,
   "metadata": {
    "collapsed": false
   },
   "outputs": [
    {
     "data": {
      "text/html": [
       "\n",
       "    <style>\n",
       "    table.eli5-weights tr:hover {\n",
       "        filter: brightness(85%);\n",
       "    }\n",
       "</style>\n",
       "\n",
       "\n",
       "\n",
       "    \n",
       "\n",
       "    \n",
       "\n",
       "    \n",
       "\n",
       "    \n",
       "\n",
       "    \n",
       "\n",
       "    \n",
       "\n",
       "\n",
       "    \n",
       "\n",
       "    \n",
       "\n",
       "    \n",
       "\n",
       "    \n",
       "\n",
       "    \n",
       "\n",
       "    \n",
       "\n",
       "\n",
       "    \n",
       "\n",
       "    \n",
       "\n",
       "    \n",
       "\n",
       "    \n",
       "\n",
       "    \n",
       "        <table class=\"eli5-weights eli5-feature-importances\" style=\"border-collapse: collapse; border: none; margin-top: 0em;\">\n",
       "            <thead>\n",
       "            <tr style=\"border: none;\">\n",
       "                <th style=\"padding: 0 1em 0 0.5em; text-align: right; border: none;\">Weight</th>\n",
       "                <th style=\"padding: 0 0.5em 0 0.5em; text-align: left; border: none;\">Feature</th>\n",
       "            </tr>\n",
       "            </thead>\n",
       "            <tbody>\n",
       "            \n",
       "                <tr style=\"background-color: hsl(120, 100.00%, 80.00%); border: none;\">\n",
       "                    <td style=\"padding: 0 1em 0 0.5em; text-align: right; border: none;\">\n",
       "                        0.4278\n",
       "                        \n",
       "                    </td>\n",
       "                    <td style=\"padding: 0 0.5em 0 0.5em; text-align: left; border: none;\">\n",
       "                        Sex=female\n",
       "                    </td>\n",
       "                </tr>\n",
       "            \n",
       "                <tr style=\"background-color: hsl(120, 100.00%, 88.46%); border: none;\">\n",
       "                    <td style=\"padding: 0 1em 0 0.5em; text-align: right; border: none;\">\n",
       "                        0.1949\n",
       "                        \n",
       "                    </td>\n",
       "                    <td style=\"padding: 0 0.5em 0 0.5em; text-align: left; border: none;\">\n",
       "                        Pclass=3\n",
       "                    </td>\n",
       "                </tr>\n",
       "            \n",
       "                <tr style=\"background-color: hsl(120, 100.00%, 94.57%); border: none;\">\n",
       "                    <td style=\"padding: 0 1em 0 0.5em; text-align: right; border: none;\">\n",
       "                        0.0665\n",
       "                        \n",
       "                    </td>\n",
       "                    <td style=\"padding: 0 0.5em 0 0.5em; text-align: left; border: none;\">\n",
       "                        Embarked=S\n",
       "                    </td>\n",
       "                </tr>\n",
       "            \n",
       "                <tr style=\"background-color: hsl(120, 100.00%, 95.49%); border: none;\">\n",
       "                    <td style=\"padding: 0 1em 0 0.5em; text-align: right; border: none;\">\n",
       "                        0.0510\n",
       "                        \n",
       "                    </td>\n",
       "                    <td style=\"padding: 0 0.5em 0 0.5em; text-align: left; border: none;\">\n",
       "                        Pclass=2\n",
       "                    </td>\n",
       "                </tr>\n",
       "            \n",
       "                <tr style=\"background-color: hsl(120, 100.00%, 96.06%); border: none;\">\n",
       "                    <td style=\"padding: 0 1em 0 0.5em; text-align: right; border: none;\">\n",
       "                        0.0420\n",
       "                        \n",
       "                    </td>\n",
       "                    <td style=\"padding: 0 0.5em 0 0.5em; text-align: left; border: none;\">\n",
       "                        SibSp\n",
       "                    </td>\n",
       "                </tr>\n",
       "            \n",
       "                <tr style=\"background-color: hsl(120, 100.00%, 96.08%); border: none;\">\n",
       "                    <td style=\"padding: 0 1em 0 0.5em; text-align: right; border: none;\">\n",
       "                        0.0417\n",
       "                        \n",
       "                    </td>\n",
       "                    <td style=\"padding: 0 0.5em 0 0.5em; text-align: left; border: none;\">\n",
       "                        Cabin=\n",
       "                    </td>\n",
       "                </tr>\n",
       "            \n",
       "                <tr style=\"background-color: hsl(120, 100.00%, 96.29%); border: none;\">\n",
       "                    <td style=\"padding: 0 1em 0 0.5em; text-align: right; border: none;\">\n",
       "                        0.0385\n",
       "                        \n",
       "                    </td>\n",
       "                    <td style=\"padding: 0 0.5em 0 0.5em; text-align: left; border: none;\">\n",
       "                        Embarked=C\n",
       "                    </td>\n",
       "                </tr>\n",
       "            \n",
       "                <tr style=\"background-color: hsl(120, 100.00%, 96.47%); border: none;\">\n",
       "                    <td style=\"padding: 0 1em 0 0.5em; text-align: right; border: none;\">\n",
       "                        0.0358\n",
       "                        \n",
       "                    </td>\n",
       "                    <td style=\"padding: 0 0.5em 0 0.5em; text-align: left; border: none;\">\n",
       "                        Ticket=1601\n",
       "                    </td>\n",
       "                </tr>\n",
       "            \n",
       "                <tr style=\"background-color: hsl(120, 100.00%, 96.66%); border: none;\">\n",
       "                    <td style=\"padding: 0 1em 0 0.5em; text-align: right; border: none;\">\n",
       "                        0.0331\n",
       "                        \n",
       "                    </td>\n",
       "                    <td style=\"padding: 0 0.5em 0 0.5em; text-align: left; border: none;\">\n",
       "                        Age\n",
       "                    </td>\n",
       "                </tr>\n",
       "            \n",
       "                <tr style=\"background-color: hsl(120, 100.00%, 96.72%); border: none;\">\n",
       "                    <td style=\"padding: 0 1em 0 0.5em; text-align: right; border: none;\">\n",
       "                        0.0323\n",
       "                        \n",
       "                    </td>\n",
       "                    <td style=\"padding: 0 0.5em 0 0.5em; text-align: left; border: none;\">\n",
       "                        Fare\n",
       "                    </td>\n",
       "                </tr>\n",
       "            \n",
       "                <tr style=\"background-color: hsl(120, 100.00%, 97.49%); border: none;\">\n",
       "                    <td style=\"padding: 0 1em 0 0.5em; text-align: right; border: none;\">\n",
       "                        0.0220\n",
       "                        \n",
       "                    </td>\n",
       "                    <td style=\"padding: 0 0.5em 0 0.5em; text-align: left; border: none;\">\n",
       "                        Pclass=1\n",
       "                    </td>\n",
       "                </tr>\n",
       "            \n",
       "                <tr style=\"background-color: hsl(120, 100.00%, 98.15%); border: none;\">\n",
       "                    <td style=\"padding: 0 1em 0 0.5em; text-align: right; border: none;\">\n",
       "                        0.0143\n",
       "                        \n",
       "                    </td>\n",
       "                    <td style=\"padding: 0 0.5em 0 0.5em; text-align: left; border: none;\">\n",
       "                        Parch\n",
       "                    </td>\n",
       "                </tr>\n",
       "            \n",
       "            \n",
       "            </tbody>\n",
       "        </table>\n",
       "    \n",
       "\n",
       "    \n",
       "\n",
       "\n",
       "    \n",
       "\n",
       "    \n",
       "\n",
       "    \n",
       "\n",
       "    \n",
       "\n",
       "    \n",
       "\n",
       "    \n",
       "\n",
       "\n",
       "\n"
      ],
      "text/plain": [
       "<IPython.core.display.HTML object>"
      ]
     },
     "execution_count": 7,
     "metadata": {},
     "output_type": "execute_result"
    }
   ],
   "source": [
    "from eli5 import show_weights\n",
    "show_weights(clf, vec=vec)"
   ]
  },
  {
   "cell_type": "code",
   "execution_count": 8,
   "metadata": {
    "collapsed": false
   },
   "outputs": [
    {
     "data": {
      "text/html": [
       "\n",
       "    <style>\n",
       "    table.eli5-weights tr:hover {\n",
       "        filter: brightness(85%);\n",
       "    }\n",
       "</style>\n",
       "\n",
       "\n",
       "\n",
       "    \n",
       "\n",
       "    \n",
       "\n",
       "    \n",
       "\n",
       "    \n",
       "\n",
       "    \n",
       "\n",
       "    \n",
       "\n",
       "\n",
       "    \n",
       "\n",
       "    \n",
       "\n",
       "    \n",
       "\n",
       "    \n",
       "        \n",
       "\n",
       "    \n",
       "\n",
       "        \n",
       "            \n",
       "                \n",
       "                \n",
       "    \n",
       "        <p style=\"margin-bottom: 0.5em; margin-top: 0em\">\n",
       "            <b>\n",
       "    \n",
       "        y=1\n",
       "    \n",
       "</b>\n",
       "\n",
       "    \n",
       "    (probability <b>0.566</b>, score <b>0.264</b>)\n",
       "\n",
       "top features\n",
       "        </p>\n",
       "    \n",
       "    <table class=\"eli5-weights\"\n",
       "           style=\"border-collapse: collapse; border: none; margin-top: 0em; margin-bottom: 2em;\">\n",
       "        <thead>\n",
       "        <tr style=\"border: none;\">\n",
       "            \n",
       "                <th style=\"padding: 0 1em 0 0.5em; text-align: right; border: none;\" title=\"Feature contribution already accounts for the feature value (for linear models, contribution = weight * feature value), and the sum of feature contributions is equal to the score or, for some classifiers, to the probability. Feature values are shown if &quot;show_feature_values&quot; is True.\">\n",
       "                    Contribution<sup>?</sup>\n",
       "                </th>\n",
       "            \n",
       "            <th style=\"padding: 0 0.5em 0 0.5em; text-align: left; border: none;\">Feature</th>\n",
       "            \n",
       "                <th style=\"padding: 0 0.5em 0 1em; text-align: right; border: none;\">Value</th>\n",
       "            \n",
       "        </tr>\n",
       "        </thead>\n",
       "        <tbody>\n",
       "        \n",
       "            <tr style=\"background-color: hsl(120, 100.00%, 80.00%); border: none;\">\n",
       "    <td style=\"padding: 0 1em 0 0.5em; text-align: right; border: none;\">\n",
       "        +1.673\n",
       "    </td>\n",
       "    <td style=\"padding: 0 0.5em 0 0.5em; text-align: left; border: none;\">\n",
       "        Sex=female\n",
       "    </td>\n",
       "    \n",
       "        <td style=\"padding: 0 0.5em 0 1em; text-align: right; border: none;\">\n",
       "            1.000\n",
       "        </td>\n",
       "    \n",
       "</tr>\n",
       "        \n",
       "            <tr style=\"background-color: hsl(120, 100.00%, 91.67%); border: none;\">\n",
       "    <td style=\"padding: 0 1em 0 0.5em; text-align: right; border: none;\">\n",
       "        +0.479\n",
       "    </td>\n",
       "    <td style=\"padding: 0 0.5em 0 0.5em; text-align: left; border: none;\">\n",
       "        Embarked=S\n",
       "    </td>\n",
       "    \n",
       "        <td style=\"padding: 0 0.5em 0 1em; text-align: right; border: none;\">\n",
       "            Missing\n",
       "        </td>\n",
       "    \n",
       "</tr>\n",
       "        \n",
       "            <tr style=\"background-color: hsl(120, 100.00%, 97.83%); border: none;\">\n",
       "    <td style=\"padding: 0 1em 0 0.5em; text-align: right; border: none;\">\n",
       "        +0.070\n",
       "    </td>\n",
       "    <td style=\"padding: 0 0.5em 0 0.5em; text-align: left; border: none;\">\n",
       "        Fare\n",
       "    </td>\n",
       "    \n",
       "        <td style=\"padding: 0 0.5em 0 1em; text-align: right; border: none;\">\n",
       "            7.879\n",
       "        </td>\n",
       "    \n",
       "</tr>\n",
       "        \n",
       "        \n",
       "\n",
       "        \n",
       "        \n",
       "            <tr style=\"background-color: hsl(0, 100.00%, 99.73%); border: none;\">\n",
       "    <td style=\"padding: 0 1em 0 0.5em; text-align: right; border: none;\">\n",
       "        -0.004\n",
       "    </td>\n",
       "    <td style=\"padding: 0 0.5em 0 0.5em; text-align: left; border: none;\">\n",
       "        Cabin=\n",
       "    </td>\n",
       "    \n",
       "        <td style=\"padding: 0 0.5em 0 1em; text-align: right; border: none;\">\n",
       "            1.000\n",
       "        </td>\n",
       "    \n",
       "</tr>\n",
       "        \n",
       "            <tr style=\"background-color: hsl(0, 100.00%, 99.63%); border: none;\">\n",
       "    <td style=\"padding: 0 1em 0 0.5em; text-align: right; border: none;\">\n",
       "        -0.006\n",
       "    </td>\n",
       "    <td style=\"padding: 0 0.5em 0 0.5em; text-align: left; border: none;\">\n",
       "        Parch\n",
       "    </td>\n",
       "    \n",
       "        <td style=\"padding: 0 0.5em 0 1em; text-align: right; border: none;\">\n",
       "            0.000\n",
       "        </td>\n",
       "    \n",
       "</tr>\n",
       "        \n",
       "            <tr style=\"background-color: hsl(0, 100.00%, 99.50%); border: none;\">\n",
       "    <td style=\"padding: 0 1em 0 0.5em; text-align: right; border: none;\">\n",
       "        -0.009\n",
       "    </td>\n",
       "    <td style=\"padding: 0 0.5em 0 0.5em; text-align: left; border: none;\">\n",
       "        Pclass=2\n",
       "    </td>\n",
       "    \n",
       "        <td style=\"padding: 0 0.5em 0 1em; text-align: right; border: none;\">\n",
       "            Missing\n",
       "        </td>\n",
       "    \n",
       "</tr>\n",
       "        \n",
       "            <tr style=\"background-color: hsl(0, 100.00%, 99.47%); border: none;\">\n",
       "    <td style=\"padding: 0 1em 0 0.5em; text-align: right; border: none;\">\n",
       "        -0.009\n",
       "    </td>\n",
       "    <td style=\"padding: 0 0.5em 0 0.5em; text-align: left; border: none;\">\n",
       "        Ticket=1601\n",
       "    </td>\n",
       "    \n",
       "        <td style=\"padding: 0 0.5em 0 1em; text-align: right; border: none;\">\n",
       "            Missing\n",
       "        </td>\n",
       "    \n",
       "</tr>\n",
       "        \n",
       "            <tr style=\"background-color: hsl(0, 100.00%, 99.38%); border: none;\">\n",
       "    <td style=\"padding: 0 1em 0 0.5em; text-align: right; border: none;\">\n",
       "        -0.012\n",
       "    </td>\n",
       "    <td style=\"padding: 0 0.5em 0 0.5em; text-align: left; border: none;\">\n",
       "        Embarked=C\n",
       "    </td>\n",
       "    \n",
       "        <td style=\"padding: 0 0.5em 0 1em; text-align: right; border: none;\">\n",
       "            Missing\n",
       "        </td>\n",
       "    \n",
       "</tr>\n",
       "        \n",
       "            <tr style=\"background-color: hsl(0, 100.00%, 97.81%); border: none;\">\n",
       "    <td style=\"padding: 0 1em 0 0.5em; text-align: right; border: none;\">\n",
       "        -0.071\n",
       "    </td>\n",
       "    <td style=\"padding: 0 0.5em 0 0.5em; text-align: left; border: none;\">\n",
       "        SibSp\n",
       "    </td>\n",
       "    \n",
       "        <td style=\"padding: 0 0.5em 0 1em; text-align: right; border: none;\">\n",
       "            0.000\n",
       "        </td>\n",
       "    \n",
       "</tr>\n",
       "        \n",
       "            <tr style=\"background-color: hsl(0, 100.00%, 97.77%); border: none;\">\n",
       "    <td style=\"padding: 0 1em 0 0.5em; text-align: right; border: none;\">\n",
       "        -0.073\n",
       "    </td>\n",
       "    <td style=\"padding: 0 0.5em 0 0.5em; text-align: left; border: none;\">\n",
       "        Pclass=1\n",
       "    </td>\n",
       "    \n",
       "        <td style=\"padding: 0 0.5em 0 1em; text-align: right; border: none;\">\n",
       "            Missing\n",
       "        </td>\n",
       "    \n",
       "</tr>\n",
       "        \n",
       "            <tr style=\"background-color: hsl(0, 100.00%, 96.36%); border: none;\">\n",
       "    <td style=\"padding: 0 1em 0 0.5em; text-align: right; border: none;\">\n",
       "        -0.147\n",
       "    </td>\n",
       "    <td style=\"padding: 0 0.5em 0 0.5em; text-align: left; border: none;\">\n",
       "        Age\n",
       "    </td>\n",
       "    \n",
       "        <td style=\"padding: 0 0.5em 0 1em; text-align: right; border: none;\">\n",
       "            19.000\n",
       "        </td>\n",
       "    \n",
       "</tr>\n",
       "        \n",
       "            <tr style=\"background-color: hsl(0, 100.00%, 91.08%); border: none;\">\n",
       "    <td style=\"padding: 0 1em 0 0.5em; text-align: right; border: none;\">\n",
       "        -0.528\n",
       "    </td>\n",
       "    <td style=\"padding: 0 0.5em 0 0.5em; text-align: left; border: none;\">\n",
       "        &lt;BIAS&gt;\n",
       "    </td>\n",
       "    \n",
       "        <td style=\"padding: 0 0.5em 0 1em; text-align: right; border: none;\">\n",
       "            1.000\n",
       "        </td>\n",
       "    \n",
       "</tr>\n",
       "        \n",
       "            <tr style=\"background-color: hsl(0, 100.00%, 85.09%); border: none;\">\n",
       "    <td style=\"padding: 0 1em 0 0.5em; text-align: right; border: none;\">\n",
       "        -1.100\n",
       "    </td>\n",
       "    <td style=\"padding: 0 0.5em 0 0.5em; text-align: left; border: none;\">\n",
       "        Pclass=3\n",
       "    </td>\n",
       "    \n",
       "        <td style=\"padding: 0 0.5em 0 1em; text-align: right; border: none;\">\n",
       "            1.000\n",
       "        </td>\n",
       "    \n",
       "</tr>\n",
       "        \n",
       "\n",
       "        </tbody>\n",
       "    </table>\n",
       "\n",
       "            \n",
       "        \n",
       "\n",
       "        \n",
       "\n",
       "\n",
       "\n",
       "    \n",
       "\n",
       "    \n",
       "\n",
       "    \n",
       "\n",
       "    \n",
       "\n",
       "\n",
       "    \n",
       "\n",
       "    \n",
       "\n",
       "    \n",
       "\n",
       "    \n",
       "\n",
       "    \n",
       "\n",
       "    \n",
       "\n",
       "\n",
       "    \n",
       "\n",
       "    \n",
       "\n",
       "    \n",
       "\n",
       "    \n",
       "\n",
       "    \n",
       "\n",
       "    \n",
       "\n",
       "\n",
       "\n"
      ],
      "text/plain": [
       "<IPython.core.display.HTML object>"
      ]
     },
     "execution_count": 8,
     "metadata": {},
     "output_type": "execute_result"
    }
   ],
   "source": [
    "from eli5 import show_prediction\n",
    "show_prediction(clf, valid_xs[1], vec=vec, show_feature_values=True)"
   ]
  },
  {
   "cell_type": "code",
   "execution_count": 9,
   "metadata": {
    "collapsed": false
   },
   "outputs": [
    {
     "data": {
      "text/plain": [
       "dict"
      ]
     },
     "execution_count": 9,
     "metadata": {},
     "output_type": "execute_result"
    }
   ],
   "source": [
    "type(valid_xs[1])"
   ]
  },
  {
   "cell_type": "code",
   "execution_count": 10,
   "metadata": {
    "collapsed": false
   },
   "outputs": [
    {
     "data": {
      "text/plain": [
       "sklearn.feature_extraction.dict_vectorizer.DictVectorizer"
      ]
     },
     "execution_count": 10,
     "metadata": {},
     "output_type": "execute_result"
    }
   ],
   "source": [
    "type(vec)"
   ]
  },
  {
   "cell_type": "code",
   "execution_count": 11,
   "metadata": {
    "collapsed": true
   },
   "outputs": [],
   "source": [
    "import pandas as pd\n",
    "\n",
    "data = pd.read_csv('titanic-train.csv')"
   ]
  },
  {
   "cell_type": "code",
   "execution_count": 14,
   "metadata": {
    "collapsed": false
   },
   "outputs": [
    {
     "data": {
      "text/plain": [
       "PassengerId                          1\n",
       "Survived                             0\n",
       "Pclass                               3\n",
       "Name           Braund, Mr. Owen Harris\n",
       "Sex                               male\n",
       "Age                                 22\n",
       "SibSp                                1\n",
       "Parch                                0\n",
       "Ticket                       A/5 21171\n",
       "Fare                              7.25\n",
       "Cabin                              NaN\n",
       "Embarked                             S\n",
       "Name: 0, dtype: object"
      ]
     },
     "execution_count": 14,
     "metadata": {},
     "output_type": "execute_result"
    }
   ],
   "source": [
    "data.loc[0]"
   ]
  },
  {
   "cell_type": "code",
   "execution_count": 19,
   "metadata": {
    "collapsed": false
   },
   "outputs": [
    {
     "data": {
      "text/plain": [
       "Index(['PassengerId', 'Survived', 'Pclass', 'Name', 'Sex', 'Age', 'SibSp',\n",
       "       'Parch', 'Ticket', 'Fare', 'Cabin', 'Embarked'],\n",
       "      dtype='object')"
      ]
     },
     "execution_count": 19,
     "metadata": {},
     "output_type": "execute_result"
    }
   ],
   "source": [
    "data.columns"
   ]
  },
  {
   "cell_type": "code",
   "execution_count": 26,
   "metadata": {
    "collapsed": false
   },
   "outputs": [
    {
     "name": "stdout",
     "output_type": "stream",
     "text": [
      "['PassengerId', 'Survived', 'Pclass', 'Name', 'Sex', 'Age', 'SibSp', 'Parch', 'Ticket', 'Fare', 'Cabin', 'Embarked']\n",
      "['PassengerId', 'Pclass', 'Name', 'Sex', 'Age', 'SibSp', 'Parch', 'Ticket', 'Fare', 'Cabin', 'Embarked']\n"
     ]
    }
   ],
   "source": [
    "columns_list = list(data.columns)\n",
    "print(columns_list)\n",
    "columns_list.remove('Survived')\n",
    "print(columns_list)"
   ]
  },
  {
   "cell_type": "code",
   "execution_count": 69,
   "metadata": {
    "collapsed": false
   },
   "outputs": [],
   "source": [
    "from sklearn.utils import shuffle\n",
    "from sklearn.model_selection import train_test_split\n",
    "\n",
    "train_xs, valid_xs, train_ys, valid_ys = train_test_split(data[columns_list], data['Survived'], test_size=0.25, random_state=0)"
   ]
  },
  {
   "cell_type": "code",
   "execution_count": 70,
   "metadata": {
    "collapsed": false
   },
   "outputs": [
    {
     "data": {
      "text/plain": [
       "XGBClassifier(base_score=0.5, colsample_bylevel=1, colsample_bytree=1,\n",
       "       gamma=0, learning_rate=0.1, max_delta_step=0, max_depth=3,\n",
       "       min_child_weight=1, missing=None, n_estimators=100, nthread=-1,\n",
       "       objective='binary:logistic', reg_alpha=0, reg_lambda=1,\n",
       "       scale_pos_weight=1, seed=0, silent=True, subsample=1)"
      ]
     },
     "execution_count": 70,
     "metadata": {},
     "output_type": "execute_result"
    }
   ],
   "source": [
    "import warnings\n",
    "# xgboost <= 0.6a2 shows a warning when used with scikit-learn 0.18+\n",
    "warnings.filterwarnings('ignore', category=DeprecationWarning)\n",
    "from xgboost import XGBClassifier\n",
    "from sklearn.feature_extraction import DictVectorizer\n",
    "from sklearn.pipeline import make_pipeline\n",
    "from sklearn.model_selection import cross_val_score\n",
    "\n",
    "\n",
    "\n",
    "clf = XGBClassifier()\n",
    "#vec = DictVectorizer()\n",
    "pipeline = make_pipeline(clf)\n",
    "dummies_train = pd.get_dummies(train_xs[['Sex','Ticket','Cabin','Embarked']])\n",
    "train_xs.drop(['Name','Sex','Ticket','Cabin','Embarked'],inplace = True, axis = 1)\n",
    "train_xs = pd.concat([train_xs,dummies_train],axis = 1)\n",
    "\n",
    "dummies_test = pd.get_dummies(valid_xs[['Sex','Ticket','Cabin','Embarked']])\n",
    "valid_xs.drop(['Name','Sex','Ticket','Cabin','Embarked'],inplace = True,axis = 1)\n",
    "valid_xs = pd.concat([valid_xs,dummies_test],axis = 1)\n",
    "\n",
    "common_columns= list(set(train_xs.columns) & set(valid_xs.columns))\n",
    "\n",
    "train_xs2 = train_xs[common_columns]\n",
    "clf.fit(train_xs2,train_ys)"
   ]
  },
  {
   "cell_type": "code",
   "execution_count": 72,
   "metadata": {
    "collapsed": false
   },
   "outputs": [
    {
     "data": {
      "text/plain": [
       "Index(['PassengerId', 'Pclass', 'Age', 'SibSp', 'Parch', 'Fare', 'Sex_female',\n",
       "       'Sex_male', 'Ticket_110413', 'Ticket_111361',\n",
       "       ...\n",
       "       'Cabin_E33', 'Cabin_E34', 'Cabin_E67', 'Cabin_F G73', 'Cabin_F2',\n",
       "       'Cabin_F33', 'Cabin_G6', 'Embarked_C', 'Embarked_Q', 'Embarked_S'],\n",
       "      dtype='object', length=263)"
      ]
     },
     "execution_count": 72,
     "metadata": {},
     "output_type": "execute_result"
    }
   ],
   "source": [
    "valid_xs.columns"
   ]
  },
  {
   "cell_type": "code",
   "execution_count": 74,
   "metadata": {
    "collapsed": false
   },
   "outputs": [
    {
     "data": {
      "text/plain": [
       "Index(['Ticket_230080', 'Ticket_C.A. 33112', 'Ticket_250649', 'Ticket_17421',\n",
       "       'Ticket_110413', 'Ticket_2627', 'Ticket_PC 17758', 'Ticket_230433',\n",
       "       'Cabin_C52', 'Ticket_13502', 'Ticket_3101295', 'Ticket_113798',\n",
       "       'Ticket_371110', 'Cabin_D36', 'Ticket_LINE', 'Cabin_D20', 'PassengerId',\n",
       "       'Ticket_1601', 'Cabin_C126', 'Ticket_PC 17757', 'Ticket_19928',\n",
       "       'Ticket_19996', 'Ticket_16966', 'SibSp', 'Ticket_111361',\n",
       "       'Ticket_C.A. 2673', 'Ticket_STON/O2. 3101279', 'Ticket_19950',\n",
       "       'Ticket_PC 17604', 'Ticket_C.A. 2315', 'Ticket_S.O.C. 14879',\n",
       "       'Cabin_B96 B98', 'Ticket_2651', 'Ticket_237736', 'Cabin_F2',\n",
       "       'Ticket_244252', 'Ticket_113781', 'Ticket_113760', 'Cabin_E67',\n",
       "       'Ticket_367226', 'Ticket_P/PP 3381', 'Ticket_F.C.C. 13529',\n",
       "       'Ticket_36928', 'Ticket_347088', 'Ticket_248727', 'Pclass',\n",
       "       'Ticket_2665', 'Ticket_36947', 'Ticket_113505', 'Ticket_244367',\n",
       "       'Ticket_CA 2144', 'Cabin_C124', 'Cabin_B58 B60', 'Ticket_35273',\n",
       "       'Cabin_G6', 'Ticket_367230', 'Ticket_S.C./PARIS 2079', 'Ticket_364516',\n",
       "       'Ticket_31027', 'Ticket_28403', 'Cabin_D17', 'Cabin_E33', 'Ticket_2666',\n",
       "       'Embarked_C', 'Sex_male', 'Ticket_358585', 'Parch', 'Cabin_C125',\n",
       "       'Ticket_PC 17569', 'Embarked_S', 'Ticket_PC 17558', 'Cabin_C65',\n",
       "       'Ticket_11767', 'Ticket_PP 9549', 'Ticket_PC 17572', 'Ticket_239853',\n",
       "       'Ticket_347054', 'Ticket_PC 17582', 'Cabin_F33', 'Cabin_B18',\n",
       "       'Cabin_C23 C25 C27', 'Ticket_2691', 'Ticket_C.A. 37671', 'Embarked_Q',\n",
       "       'Ticket_349909', 'Sex_female', 'Age', 'Ticket_11967', 'Ticket_347742',\n",
       "       'Cabin_B49', 'Ticket_3101278', 'Ticket_382652', 'Ticket_26360',\n",
       "       'Cabin_C78', 'Fare', 'Ticket_347082'],\n",
       "      dtype='object')"
      ]
     },
     "execution_count": 74,
     "metadata": {},
     "output_type": "execute_result"
    }
   ],
   "source": [
    "train_xs2.columns"
   ]
  },
  {
   "cell_type": "code",
   "execution_count": 59,
   "metadata": {
    "collapsed": false
   },
   "outputs": [],
   "source": []
  },
  {
   "cell_type": "code",
   "execution_count": 75,
   "metadata": {
    "collapsed": true
   },
   "outputs": [],
   "source": [
    "order_list = clf.booster().feature_names"
   ]
  },
  {
   "cell_type": "code",
   "execution_count": 76,
   "metadata": {
    "collapsed": false
   },
   "outputs": [
    {
     "data": {
      "text/plain": [
       "array([[ 0.84309262,  0.15690739],\n",
       "       [ 0.94615322,  0.05384678],\n",
       "       [ 0.91994107,  0.0800589 ],\n",
       "       [ 0.05155241,  0.94844759],\n",
       "       [ 0.31986612,  0.68013388],\n",
       "       [ 0.75204951,  0.24795048],\n",
       "       [ 0.07347041,  0.92652959],\n",
       "       [ 0.10314101,  0.89685899],\n",
       "       [ 0.48974121,  0.51025879],\n",
       "       [ 0.32275409,  0.67724591],\n",
       "       [ 0.82817972,  0.1718203 ],\n",
       "       [ 0.14835775,  0.85164225],\n",
       "       [ 0.86457872,  0.13542131],\n",
       "       [ 0.04182297,  0.95817703],\n",
       "       [ 0.03134012,  0.96865988],\n",
       "       [ 0.14006585,  0.85993415],\n",
       "       [ 0.88354975,  0.11645024],\n",
       "       [ 0.93424553,  0.06575447],\n",
       "       [ 0.82015395,  0.17984602],\n",
       "       [ 0.06794041,  0.93205959],\n",
       "       [ 0.93010831,  0.06989167],\n",
       "       [ 0.18278867,  0.81721133],\n",
       "       [ 0.94833612,  0.05166389],\n",
       "       [ 0.75919342,  0.24080655],\n",
       "       [ 0.52514112,  0.47485888],\n",
       "       [ 0.03218102,  0.96781898],\n",
       "       [ 0.74829042,  0.25170958],\n",
       "       [ 0.27810788,  0.72189212],\n",
       "       [ 0.11397916,  0.88602084],\n",
       "       [ 0.81803286,  0.18196711],\n",
       "       [ 0.79274583,  0.20725419],\n",
       "       [ 0.13591373,  0.86408627],\n",
       "       [ 0.85140765,  0.14859232],\n",
       "       [ 0.8299607 ,  0.17003927],\n",
       "       [ 0.9024291 ,  0.09757092],\n",
       "       [ 0.33557719,  0.66442281],\n",
       "       [ 0.96554071,  0.03445931],\n",
       "       [ 0.88479096,  0.11520903],\n",
       "       [ 0.82799053,  0.17200948],\n",
       "       [ 0.92919666,  0.07080337],\n",
       "       [ 0.7896648 ,  0.21033518],\n",
       "       [ 0.74518114,  0.25481886],\n",
       "       [ 0.87725234,  0.12274768],\n",
       "       [ 0.92129201,  0.078708  ],\n",
       "       [ 0.03547025,  0.96452975],\n",
       "       [ 0.92175293,  0.07824706],\n",
       "       [ 0.91119653,  0.08880345],\n",
       "       [ 0.09966284,  0.90033716],\n",
       "       [ 0.93259943,  0.06740057],\n",
       "       [ 0.6259653 ,  0.3740347 ],\n",
       "       [ 0.81611562,  0.18388437],\n",
       "       [ 0.76803076,  0.23196927],\n",
       "       [ 0.04007852,  0.95992148],\n",
       "       [ 0.87118721,  0.12881276],\n",
       "       [ 0.78899264,  0.21100737],\n",
       "       [ 0.83574843,  0.16425154],\n",
       "       [ 0.85937536,  0.14062463],\n",
       "       [ 0.80738676,  0.19261323],\n",
       "       [ 0.92590177,  0.07409826],\n",
       "       [ 0.92943478,  0.07056524],\n",
       "       [ 0.76884758,  0.23115242],\n",
       "       [ 0.59367448,  0.40632552],\n",
       "       [ 0.04589081,  0.95410919],\n",
       "       [ 0.84673381,  0.15326616],\n",
       "       [ 0.24935871,  0.75064129],\n",
       "       [ 0.88746607,  0.11253396],\n",
       "       [ 0.15775955,  0.84224045],\n",
       "       [ 0.84482056,  0.15517944],\n",
       "       [ 0.04550922,  0.95449078],\n",
       "       [ 0.06228173,  0.93771827],\n",
       "       [ 0.08565587,  0.91434413],\n",
       "       [ 0.74796355,  0.25203645],\n",
       "       [ 0.60348666,  0.39651334],\n",
       "       [ 0.85695767,  0.14304236],\n",
       "       [ 0.82799053,  0.17200948],\n",
       "       [ 0.17423552,  0.82576448],\n",
       "       [ 0.84685808,  0.15314192],\n",
       "       [ 0.75082636,  0.24917364],\n",
       "       [ 0.91044754,  0.08955246],\n",
       "       [ 0.91080815,  0.08919183],\n",
       "       [ 0.91561162,  0.08438841],\n",
       "       [ 0.22906852,  0.77093148],\n",
       "       [ 0.07912737,  0.92087263],\n",
       "       [ 0.91863346,  0.08136652],\n",
       "       [ 0.85465056,  0.14534944],\n",
       "       [ 0.03817254,  0.96182746],\n",
       "       [ 0.08634293,  0.91365707],\n",
       "       [ 0.88552499,  0.11447501],\n",
       "       [ 0.0913341 ,  0.9086659 ],\n",
       "       [ 0.52559328,  0.47440669],\n",
       "       [ 0.94814932,  0.05185068],\n",
       "       [ 0.93238431,  0.06761571],\n",
       "       [ 0.10572636,  0.89427364],\n",
       "       [ 0.03221709,  0.96778291],\n",
       "       [ 0.84627467,  0.15372533],\n",
       "       [ 0.92610759,  0.07389239],\n",
       "       [ 0.10029984,  0.89970016],\n",
       "       [ 0.93665296,  0.06334703],\n",
       "       [ 0.79979885,  0.20020115],\n",
       "       [ 0.41996032,  0.58003968],\n",
       "       [ 0.91849875,  0.08150123],\n",
       "       [ 0.92657006,  0.07342996],\n",
       "       [ 0.91290474,  0.08709529],\n",
       "       [ 0.86969578,  0.13030419],\n",
       "       [ 0.51134235,  0.48865765],\n",
       "       [ 0.48455602,  0.51544398],\n",
       "       [ 0.09994662,  0.90005338],\n",
       "       [ 0.87472928,  0.12527074],\n",
       "       [ 0.89608592,  0.1039141 ],\n",
       "       [ 0.36521977,  0.63478023],\n",
       "       [ 0.95740777,  0.04259223],\n",
       "       [ 0.03184712,  0.96815288],\n",
       "       [ 0.49323618,  0.50676382],\n",
       "       [ 0.53987718,  0.46012279],\n",
       "       [ 0.60191739,  0.39808258],\n",
       "       [ 0.09650582,  0.90349418],\n",
       "       [ 0.52882296,  0.47117704],\n",
       "       [ 0.13882768,  0.86117232],\n",
       "       [ 0.89358771,  0.10641231],\n",
       "       [ 0.12428719,  0.87571281],\n",
       "       [ 0.61505353,  0.38494644],\n",
       "       [ 0.65698624,  0.34301376],\n",
       "       [ 0.90926671,  0.0907333 ],\n",
       "       [ 0.87665242,  0.12334757],\n",
       "       [ 0.89021081,  0.10978919],\n",
       "       [ 0.89334124,  0.10665873],\n",
       "       [ 0.92610759,  0.07389239],\n",
       "       [ 0.85391259,  0.14608742],\n",
       "       [ 0.95095271,  0.04904731],\n",
       "       [ 0.94673139,  0.05326862],\n",
       "       [ 0.3108809 ,  0.6891191 ],\n",
       "       [ 0.86596489,  0.13403514],\n",
       "       [ 0.85533631,  0.14466372],\n",
       "       [ 0.549752  ,  0.45024797],\n",
       "       [ 0.93600404,  0.06399596],\n",
       "       [ 0.90938365,  0.09061638],\n",
       "       [ 0.86327457,  0.13672541],\n",
       "       [ 0.74864674,  0.25135326],\n",
       "       [ 0.85914004,  0.14085995],\n",
       "       [ 0.85927486,  0.14072514],\n",
       "       [ 0.82784212,  0.17215791],\n",
       "       [ 0.03123254,  0.96876746],\n",
       "       [ 0.87725234,  0.12274768],\n",
       "       [ 0.33861333,  0.66138667],\n",
       "       [ 0.06335038,  0.93664962],\n",
       "       [ 0.40259141,  0.59740859],\n",
       "       [ 0.81675875,  0.18324123],\n",
       "       [ 0.0968051 ,  0.9031949 ],\n",
       "       [ 0.10854977,  0.89145023],\n",
       "       [ 0.93285328,  0.0671467 ],\n",
       "       [ 0.85962516,  0.14037482],\n",
       "       [ 0.51135421,  0.48864582],\n",
       "       [ 0.74021626,  0.25978374],\n",
       "       [ 0.826599  ,  0.17340103],\n",
       "       [ 0.0835681 ,  0.9164319 ],\n",
       "       [ 0.80156803,  0.198432  ],\n",
       "       [ 0.48288184,  0.51711816],\n",
       "       [ 0.96440816,  0.03559183],\n",
       "       [ 0.20869517,  0.79130483],\n",
       "       [ 0.18366551,  0.81633449],\n",
       "       [ 0.92727309,  0.07272688],\n",
       "       [ 0.88216186,  0.11783816],\n",
       "       [ 0.03630847,  0.96369153],\n",
       "       [ 0.81124824,  0.18875176],\n",
       "       [ 0.8763693 ,  0.1236307 ],\n",
       "       [ 0.75005776,  0.24994226],\n",
       "       [ 0.95599771,  0.0440023 ],\n",
       "       [ 0.87727106,  0.12272894],\n",
       "       [ 0.89318031,  0.1068197 ],\n",
       "       [ 0.85803735,  0.14196266],\n",
       "       [ 0.81167585,  0.18832414],\n",
       "       [ 0.03553122,  0.96446878],\n",
       "       [ 0.94547069,  0.05452932],\n",
       "       [ 0.93508339,  0.0649166 ],\n",
       "       [ 0.35535926,  0.64464074],\n",
       "       [ 0.92125231,  0.0787477 ],\n",
       "       [ 0.01820004,  0.98179996],\n",
       "       [ 0.90742016,  0.09257986],\n",
       "       [ 0.88354975,  0.11645024],\n",
       "       [ 0.32089716,  0.67910284],\n",
       "       [ 0.685179  ,  0.31482098],\n",
       "       [ 0.77999574,  0.22000428],\n",
       "       [ 0.8763693 ,  0.1236307 ],\n",
       "       [ 0.87784976,  0.12215026],\n",
       "       [ 0.65977144,  0.34022853],\n",
       "       [ 0.85927486,  0.14072514],\n",
       "       [ 0.2158711 ,  0.7841289 ],\n",
       "       [ 0.94615322,  0.05384678],\n",
       "       [ 0.74115622,  0.25884381],\n",
       "       [ 0.0392884 ,  0.9607116 ],\n",
       "       [ 0.54269236,  0.45730764],\n",
       "       [ 0.54881221,  0.45118779],\n",
       "       [ 0.36658746,  0.63341254],\n",
       "       [ 0.44847763,  0.55152237],\n",
       "       [ 0.87629277,  0.12370721],\n",
       "       [ 0.91601413,  0.08398584],\n",
       "       [ 0.8845976 ,  0.11540238],\n",
       "       [ 0.5237633 ,  0.47623667],\n",
       "       [ 0.40438068,  0.59561932],\n",
       "       [ 0.95599771,  0.0440023 ],\n",
       "       [ 0.89649206,  0.10350796],\n",
       "       [ 0.24487257,  0.75512743],\n",
       "       [ 0.96004641,  0.03995362],\n",
       "       [ 0.34573823,  0.65426177],\n",
       "       [ 0.87166142,  0.12833861],\n",
       "       [ 0.79217279,  0.20782718],\n",
       "       [ 0.17630702,  0.82369298],\n",
       "       [ 0.83587188,  0.16412814],\n",
       "       [ 0.1521107 ,  0.8478893 ],\n",
       "       [ 0.88430727,  0.11569275],\n",
       "       [ 0.81972218,  0.18027781],\n",
       "       [ 0.85387373,  0.1461263 ],\n",
       "       [ 0.97776246,  0.02223753],\n",
       "       [ 0.25166672,  0.74833328],\n",
       "       [ 0.81399691,  0.1860031 ],\n",
       "       [ 0.87537676,  0.12462322],\n",
       "       [ 0.77568638,  0.22431362],\n",
       "       [ 0.09199756,  0.90800244],\n",
       "       [ 0.92244369,  0.07755633],\n",
       "       [ 0.03034687,  0.96965313],\n",
       "       [ 0.88949805,  0.11050196],\n",
       "       [ 0.08492458,  0.91507542],\n",
       "       [ 0.21660376,  0.78339624]], dtype=float32)"
      ]
     },
     "execution_count": 76,
     "metadata": {},
     "output_type": "execute_result"
    }
   ],
   "source": [
    "clf.predict_proba(valid_xs[order_list])"
   ]
  },
  {
   "cell_type": "code",
   "execution_count": 79,
   "metadata": {
    "collapsed": false
   },
   "outputs": [
    {
     "ename": "ValueError",
     "evalue": "feature_names mismatch: ['Ticket_230080', 'Ticket_C.A. 33112', 'Ticket_250649', 'Ticket_17421', 'Ticket_110413', 'Ticket_2627', 'Ticket_PC 17758', 'Ticket_230433', 'Cabin_C52', 'Ticket_13502', 'Ticket_3101295', 'Ticket_113798', 'Ticket_371110', 'Cabin_D36', 'Ticket_LINE', 'Cabin_D20', 'PassengerId', 'Ticket_1601', 'Cabin_C126', 'Ticket_PC 17757', 'Ticket_19928', 'Ticket_19996', 'Ticket_16966', 'SibSp', 'Ticket_111361', 'Ticket_C.A. 2673', 'Ticket_STON/O2. 3101279', 'Ticket_19950', 'Ticket_PC 17604', 'Ticket_C.A. 2315', 'Ticket_S.O.C. 14879', 'Cabin_B96 B98', 'Ticket_2651', 'Ticket_237736', 'Cabin_F2', 'Ticket_244252', 'Ticket_113781', 'Ticket_113760', 'Cabin_E67', 'Ticket_367226', 'Ticket_P/PP 3381', 'Ticket_F.C.C. 13529', 'Ticket_36928', 'Ticket_347088', 'Ticket_248727', 'Pclass', 'Ticket_2665', 'Ticket_36947', 'Ticket_113505', 'Ticket_244367', 'Ticket_CA 2144', 'Cabin_C124', 'Cabin_B58 B60', 'Ticket_35273', 'Cabin_G6', 'Ticket_367230', 'Ticket_S.C./PARIS 2079', 'Ticket_364516', 'Ticket_31027', 'Ticket_28403', 'Cabin_D17', 'Cabin_E33', 'Ticket_2666', 'Embarked_C', 'Sex_male', 'Ticket_358585', 'Parch', 'Cabin_C125', 'Ticket_PC 17569', 'Embarked_S', 'Ticket_PC 17558', 'Cabin_C65', 'Ticket_11767', 'Ticket_PP 9549', 'Ticket_PC 17572', 'Ticket_239853', 'Ticket_347054', 'Ticket_PC 17582', 'Cabin_F33', 'Cabin_B18', 'Cabin_C23 C25 C27', 'Ticket_2691', 'Ticket_C.A. 37671', 'Embarked_Q', 'Ticket_349909', 'Sex_female', 'Age', 'Ticket_11967', 'Ticket_347742', 'Cabin_B49', 'Ticket_3101278', 'Ticket_382652', 'Ticket_26360', 'Cabin_C78', 'Fare', 'Ticket_347082'] ['f0', 'f1', 'f2', 'f3', 'f4', 'f5', 'f6', 'f7', 'f8', 'f9', 'f10', 'f11', 'f12', 'f13', 'f14', 'f15', 'f16', 'f17', 'f18', 'f19', 'f20', 'f21', 'f22', 'f23', 'f24', 'f25', 'f26', 'f27', 'f28', 'f29', 'f30', 'f31', 'f32', 'f33', 'f34', 'f35', 'f36', 'f37', 'f38', 'f39', 'f40', 'f41', 'f42', 'f43', 'f44', 'f45', 'f46', 'f47', 'f48', 'f49', 'f50', 'f51', 'f52', 'f53', 'f54', 'f55', 'f56', 'f57', 'f58', 'f59', 'f60', 'f61', 'f62', 'f63', 'f64', 'f65', 'f66', 'f67', 'f68', 'f69', 'f70', 'f71', 'f72', 'f73', 'f74', 'f75', 'f76', 'f77', 'f78', 'f79', 'f80', 'f81', 'f82', 'f83', 'f84', 'f85', 'f86', 'f87', 'f88', 'f89', 'f90', 'f91', 'f92', 'f93', 'f94', 'f95']\nexpected Ticket_230080, Ticket_C.A. 33112, Ticket_250649, Ticket_17421, Ticket_110413, Ticket_2627, Ticket_PC 17758, Ticket_230433, Cabin_C52, Ticket_13502, Ticket_3101295, Ticket_113798, Ticket_371110, Cabin_D36, Ticket_LINE, Cabin_D20, PassengerId, Ticket_1601, Cabin_C126, Ticket_PC 17757, Ticket_19928, Ticket_19996, Ticket_16966, SibSp, Ticket_111361, Ticket_C.A. 2673, Ticket_STON/O2. 3101279, Ticket_19950, Ticket_PC 17604, Ticket_C.A. 2315, Ticket_S.O.C. 14879, Cabin_B96 B98, Ticket_2651, Ticket_237736, Cabin_F2, Ticket_244252, Ticket_113781, Ticket_113760, Cabin_E67, Ticket_367226, Ticket_P/PP 3381, Ticket_F.C.C. 13529, Ticket_36928, Ticket_347088, Ticket_248727, Pclass, Ticket_2665, Ticket_36947, Ticket_113505, Ticket_244367, Ticket_CA 2144, Cabin_C124, Cabin_B58 B60, Ticket_35273, Cabin_G6, Ticket_367230, Ticket_S.C./PARIS 2079, Ticket_364516, Ticket_31027, Ticket_28403, Cabin_D17, Cabin_E33, Ticket_2666, Embarked_C, Sex_male, Ticket_358585, Parch, Cabin_C125, Ticket_PC 17569, Embarked_S, Ticket_PC 17558, Cabin_C65, Ticket_11767, Ticket_PP 9549, Ticket_PC 17572, Ticket_239853, Ticket_347054, Ticket_PC 17582, Cabin_F33, Cabin_B18, Cabin_C23 C25 C27, Ticket_2691, Ticket_C.A. 37671, Embarked_Q, Ticket_349909, Sex_female, Age, Ticket_11967, Ticket_347742, Cabin_B49, Ticket_3101278, Ticket_382652, Ticket_26360, Cabin_C78, Fare, Ticket_347082 in input data\ntraining data did not have the following fields: f21, f86, f83, f85, f4, f6, f44, f89, f67, f29, f19, f91, f84, f50, f0, f3, f95, f32, f38, f56, f14, f60, f24, f27, f46, f5, f92, f23, f25, f22, f87, f54, f8, f80, f10, f39, f93, f2, f55, f26, f1, f12, f72, f64, f53, f20, f36, f15, f11, f79, f69, f90, f34, f17, f75, f61, f76, f73, f30, f82, f31, f13, f59, f52, f33, f18, f58, f9, f47, f45, f88, f40, f43, f63, f62, f16, f65, f48, f28, f37, f68, f70, f77, f51, f74, f41, f78, f7, f94, f66, f81, f57, f42, f35, f49, f71",
     "output_type": "error",
     "traceback": [
      "\u001b[0;31m---------------------------------------------------------------------------\u001b[0m",
      "\u001b[0;31mValueError\u001b[0m                                Traceback (most recent call last)",
      "\u001b[0;32m<ipython-input-79-b480fc007510>\u001b[0m in \u001b[0;36m<module>\u001b[0;34m()\u001b[0m\n\u001b[0;32m----> 1\u001b[0;31m \u001b[0meli5\u001b[0m\u001b[1;33m.\u001b[0m\u001b[0mshow_prediction\u001b[0m\u001b[1;33m(\u001b[0m\u001b[0mclf\u001b[0m\u001b[1;33m,\u001b[0m\u001b[0mvalid_xs\u001b[0m\u001b[1;33m[\u001b[0m\u001b[0morder_list\u001b[0m\u001b[1;33m]\u001b[0m\u001b[1;33m.\u001b[0m\u001b[0mloc\u001b[0m\u001b[1;33m[\u001b[0m\u001b[1;36m1\u001b[0m\u001b[1;33m]\u001b[0m\u001b[1;33m)\u001b[0m\u001b[1;33m\u001b[0m\u001b[0m\n\u001b[0m",
      "\u001b[0;32mC:\\Program Files\\Anaconda3\\lib\\site-packages\\eli5\\ipython.py\u001b[0m in \u001b[0;36mshow_prediction\u001b[0;34m(estimator, doc, **kwargs)\u001b[0m\n\u001b[1;32m    240\u001b[0m     \"\"\"\n\u001b[1;32m    241\u001b[0m     \u001b[0mformat_kwargs\u001b[0m\u001b[1;33m,\u001b[0m \u001b[0mexplain_kwargs\u001b[0m \u001b[1;33m=\u001b[0m \u001b[0m_split_kwargs\u001b[0m\u001b[1;33m(\u001b[0m\u001b[0mkwargs\u001b[0m\u001b[1;33m)\u001b[0m\u001b[1;33m\u001b[0m\u001b[0m\n\u001b[0;32m--> 242\u001b[0;31m     \u001b[0mexpl\u001b[0m \u001b[1;33m=\u001b[0m \u001b[0mexplain_prediction\u001b[0m\u001b[1;33m(\u001b[0m\u001b[0mestimator\u001b[0m\u001b[1;33m,\u001b[0m \u001b[0mdoc\u001b[0m\u001b[1;33m,\u001b[0m \u001b[1;33m**\u001b[0m\u001b[0mexplain_kwargs\u001b[0m\u001b[1;33m)\u001b[0m\u001b[1;33m\u001b[0m\u001b[0m\n\u001b[0m\u001b[1;32m    243\u001b[0m     \u001b[0mhtml\u001b[0m \u001b[1;33m=\u001b[0m \u001b[0mformat_as_html\u001b[0m\u001b[1;33m(\u001b[0m\u001b[0mexpl\u001b[0m\u001b[1;33m,\u001b[0m \u001b[1;33m**\u001b[0m\u001b[0mformat_kwargs\u001b[0m\u001b[1;33m)\u001b[0m\u001b[1;33m\u001b[0m\u001b[0m\n\u001b[1;32m    244\u001b[0m     \u001b[1;32mreturn\u001b[0m \u001b[0mHTML\u001b[0m\u001b[1;33m(\u001b[0m\u001b[0mhtml\u001b[0m\u001b[1;33m)\u001b[0m\u001b[1;33m\u001b[0m\u001b[0m\n",
      "\u001b[0;32mC:\\Program Files\\Anaconda3\\lib\\site-packages\\singledispatch.py\u001b[0m in \u001b[0;36mwrapper\u001b[0;34m(*args, **kw)\u001b[0m\n\u001b[1;32m    208\u001b[0m \u001b[1;33m\u001b[0m\u001b[0m\n\u001b[1;32m    209\u001b[0m     \u001b[1;32mdef\u001b[0m \u001b[0mwrapper\u001b[0m\u001b[1;33m(\u001b[0m\u001b[1;33m*\u001b[0m\u001b[0margs\u001b[0m\u001b[1;33m,\u001b[0m \u001b[1;33m**\u001b[0m\u001b[0mkw\u001b[0m\u001b[1;33m)\u001b[0m\u001b[1;33m:\u001b[0m\u001b[1;33m\u001b[0m\u001b[0m\n\u001b[0;32m--> 210\u001b[0;31m         \u001b[1;32mreturn\u001b[0m \u001b[0mdispatch\u001b[0m\u001b[1;33m(\u001b[0m\u001b[0margs\u001b[0m\u001b[1;33m[\u001b[0m\u001b[1;36m0\u001b[0m\u001b[1;33m]\u001b[0m\u001b[1;33m.\u001b[0m\u001b[0m__class__\u001b[0m\u001b[1;33m)\u001b[0m\u001b[1;33m(\u001b[0m\u001b[1;33m*\u001b[0m\u001b[0margs\u001b[0m\u001b[1;33m,\u001b[0m \u001b[1;33m**\u001b[0m\u001b[0mkw\u001b[0m\u001b[1;33m)\u001b[0m\u001b[1;33m\u001b[0m\u001b[0m\n\u001b[0m\u001b[1;32m    211\u001b[0m \u001b[1;33m\u001b[0m\u001b[0m\n\u001b[1;32m    212\u001b[0m     \u001b[0mregistry\u001b[0m\u001b[1;33m[\u001b[0m\u001b[0mobject\u001b[0m\u001b[1;33m]\u001b[0m \u001b[1;33m=\u001b[0m \u001b[0mfunc\u001b[0m\u001b[1;33m\u001b[0m\u001b[0m\n",
      "\u001b[0;32mC:\\Program Files\\Anaconda3\\lib\\site-packages\\singledispatch.py\u001b[0m in \u001b[0;36mwrapper\u001b[0;34m(*args, **kw)\u001b[0m\n\u001b[1;32m    208\u001b[0m \u001b[1;33m\u001b[0m\u001b[0m\n\u001b[1;32m    209\u001b[0m     \u001b[1;32mdef\u001b[0m \u001b[0mwrapper\u001b[0m\u001b[1;33m(\u001b[0m\u001b[1;33m*\u001b[0m\u001b[0margs\u001b[0m\u001b[1;33m,\u001b[0m \u001b[1;33m**\u001b[0m\u001b[0mkw\u001b[0m\u001b[1;33m)\u001b[0m\u001b[1;33m:\u001b[0m\u001b[1;33m\u001b[0m\u001b[0m\n\u001b[0;32m--> 210\u001b[0;31m         \u001b[1;32mreturn\u001b[0m \u001b[0mdispatch\u001b[0m\u001b[1;33m(\u001b[0m\u001b[0margs\u001b[0m\u001b[1;33m[\u001b[0m\u001b[1;36m0\u001b[0m\u001b[1;33m]\u001b[0m\u001b[1;33m.\u001b[0m\u001b[0m__class__\u001b[0m\u001b[1;33m)\u001b[0m\u001b[1;33m(\u001b[0m\u001b[1;33m*\u001b[0m\u001b[0margs\u001b[0m\u001b[1;33m,\u001b[0m \u001b[1;33m**\u001b[0m\u001b[0mkw\u001b[0m\u001b[1;33m)\u001b[0m\u001b[1;33m\u001b[0m\u001b[0m\n\u001b[0m\u001b[1;32m    211\u001b[0m \u001b[1;33m\u001b[0m\u001b[0m\n\u001b[1;32m    212\u001b[0m     \u001b[0mregistry\u001b[0m\u001b[1;33m[\u001b[0m\u001b[0mobject\u001b[0m\u001b[1;33m]\u001b[0m \u001b[1;33m=\u001b[0m \u001b[0mfunc\u001b[0m\u001b[1;33m\u001b[0m\u001b[0m\n",
      "\u001b[0;32mC:\\Program Files\\Anaconda3\\lib\\site-packages\\eli5\\xgboost.py\u001b[0m in \u001b[0;36mexplain_prediction_xgboost\u001b[0;34m(xgb, doc, vec, top, top_targets, target_names, targets, feature_names, feature_re, feature_filter, vectorized)\u001b[0m\n\u001b[1;32m    166\u001b[0m         \u001b[0mX\u001b[0m \u001b[1;33m=\u001b[0m \u001b[0mX\u001b[0m\u001b[1;33m.\u001b[0m\u001b[0mtocsc\u001b[0m\u001b[1;33m(\u001b[0m\u001b[1;33m)\u001b[0m\u001b[1;33m\u001b[0m\u001b[0m\n\u001b[1;32m    167\u001b[0m \u001b[1;33m\u001b[0m\u001b[0m\n\u001b[0;32m--> 168\u001b[0;31m     \u001b[0mproba\u001b[0m \u001b[1;33m=\u001b[0m \u001b[0mpredict_proba\u001b[0m\u001b[1;33m(\u001b[0m\u001b[0mxgb\u001b[0m\u001b[1;33m,\u001b[0m \u001b[0mX\u001b[0m\u001b[1;33m)\u001b[0m\u001b[1;33m\u001b[0m\u001b[0m\n\u001b[0m\u001b[1;32m    169\u001b[0m     \u001b[0mscores_weights\u001b[0m \u001b[1;33m=\u001b[0m \u001b[0m_prediction_feature_weights\u001b[0m\u001b[1;33m(\u001b[0m\u001b[0mxgb\u001b[0m\u001b[1;33m,\u001b[0m \u001b[0mX\u001b[0m\u001b[1;33m,\u001b[0m \u001b[0mfeature_names\u001b[0m\u001b[1;33m)\u001b[0m\u001b[1;33m\u001b[0m\u001b[0m\n\u001b[1;32m    170\u001b[0m \u001b[1;33m\u001b[0m\u001b[0m\n",
      "\u001b[0;32mC:\\Program Files\\Anaconda3\\lib\\site-packages\\eli5\\sklearn\\utils.py\u001b[0m in \u001b[0;36mpredict_proba\u001b[0;34m(clf, X)\u001b[0m\n\u001b[1;32m     47\u001b[0m     \u001b[1;32mif\u001b[0m \u001b[0mis_probabilistic_classifier\u001b[0m\u001b[1;33m(\u001b[0m\u001b[0mclf\u001b[0m\u001b[1;33m)\u001b[0m\u001b[1;33m:\u001b[0m\u001b[1;33m\u001b[0m\u001b[0m\n\u001b[1;32m     48\u001b[0m         \u001b[1;32mtry\u001b[0m\u001b[1;33m:\u001b[0m\u001b[1;33m\u001b[0m\u001b[0m\n\u001b[0;32m---> 49\u001b[0;31m             \u001b[0mproba\u001b[0m\u001b[1;33m,\u001b[0m \u001b[1;33m=\u001b[0m \u001b[0mclf\u001b[0m\u001b[1;33m.\u001b[0m\u001b[0mpredict_proba\u001b[0m\u001b[1;33m(\u001b[0m\u001b[0mX\u001b[0m\u001b[1;33m)\u001b[0m\u001b[1;33m\u001b[0m\u001b[0m\n\u001b[0m\u001b[1;32m     50\u001b[0m             \u001b[1;32mreturn\u001b[0m \u001b[0mproba\u001b[0m\u001b[1;33m\u001b[0m\u001b[0m\n\u001b[1;32m     51\u001b[0m         \u001b[1;32mexcept\u001b[0m \u001b[0mNotImplementedError\u001b[0m\u001b[1;33m:\u001b[0m\u001b[1;33m\u001b[0m\u001b[0m\n",
      "\u001b[0;32mC:\\Program Files\\Anaconda3\\lib\\site-packages\\xgboost-0.6-py3.5.egg\\xgboost\\sklearn.py\u001b[0m in \u001b[0;36mpredict_proba\u001b[0;34m(self, data, output_margin, ntree_limit)\u001b[0m\n\u001b[1;32m    475\u001b[0m         class_probs = self.booster().predict(test_dmatrix,\n\u001b[1;32m    476\u001b[0m                                              \u001b[0moutput_margin\u001b[0m\u001b[1;33m=\u001b[0m\u001b[0moutput_margin\u001b[0m\u001b[1;33m,\u001b[0m\u001b[1;33m\u001b[0m\u001b[0m\n\u001b[0;32m--> 477\u001b[0;31m                                              ntree_limit=ntree_limit)\n\u001b[0m\u001b[1;32m    478\u001b[0m         \u001b[1;32mif\u001b[0m \u001b[0mself\u001b[0m\u001b[1;33m.\u001b[0m\u001b[0mobjective\u001b[0m \u001b[1;33m==\u001b[0m \u001b[1;34m\"multi:softprob\"\u001b[0m\u001b[1;33m:\u001b[0m\u001b[1;33m\u001b[0m\u001b[0m\n\u001b[1;32m    479\u001b[0m             \u001b[1;32mreturn\u001b[0m \u001b[0mclass_probs\u001b[0m\u001b[1;33m\u001b[0m\u001b[0m\n",
      "\u001b[0;32mC:\\Program Files\\Anaconda3\\lib\\site-packages\\xgboost-0.6-py3.5.egg\\xgboost\\core.py\u001b[0m in \u001b[0;36mpredict\u001b[0;34m(self, data, output_margin, ntree_limit, pred_leaf)\u001b[0m\n\u001b[1;32m    939\u001b[0m             \u001b[0moption_mask\u001b[0m \u001b[1;33m|=\u001b[0m \u001b[1;36m0x02\u001b[0m\u001b[1;33m\u001b[0m\u001b[0m\n\u001b[1;32m    940\u001b[0m \u001b[1;33m\u001b[0m\u001b[0m\n\u001b[0;32m--> 941\u001b[0;31m         \u001b[0mself\u001b[0m\u001b[1;33m.\u001b[0m\u001b[0m_validate_features\u001b[0m\u001b[1;33m(\u001b[0m\u001b[0mdata\u001b[0m\u001b[1;33m)\u001b[0m\u001b[1;33m\u001b[0m\u001b[0m\n\u001b[0m\u001b[1;32m    942\u001b[0m \u001b[1;33m\u001b[0m\u001b[0m\n\u001b[1;32m    943\u001b[0m         \u001b[0mlength\u001b[0m \u001b[1;33m=\u001b[0m \u001b[0mctypes\u001b[0m\u001b[1;33m.\u001b[0m\u001b[0mc_ulong\u001b[0m\u001b[1;33m(\u001b[0m\u001b[1;33m)\u001b[0m\u001b[1;33m\u001b[0m\u001b[0m\n",
      "\u001b[0;32mC:\\Program Files\\Anaconda3\\lib\\site-packages\\xgboost-0.6-py3.5.egg\\xgboost\\core.py\u001b[0m in \u001b[0;36m_validate_features\u001b[0;34m(self, data)\u001b[0m\n\u001b[1;32m   1179\u001b[0m \u001b[1;33m\u001b[0m\u001b[0m\n\u001b[1;32m   1180\u001b[0m                 raise ValueError(msg.format(self.feature_names,\n\u001b[0;32m-> 1181\u001b[0;31m                                             data.feature_names))\n\u001b[0m\u001b[1;32m   1182\u001b[0m \u001b[1;33m\u001b[0m\u001b[0m\n\u001b[1;32m   1183\u001b[0m     \u001b[1;32mdef\u001b[0m \u001b[0mget_split_value_histogram\u001b[0m\u001b[1;33m(\u001b[0m\u001b[0mself\u001b[0m\u001b[1;33m,\u001b[0m \u001b[0mfeature\u001b[0m\u001b[1;33m,\u001b[0m \u001b[0mfmap\u001b[0m\u001b[1;33m=\u001b[0m\u001b[1;34m''\u001b[0m\u001b[1;33m,\u001b[0m \u001b[0mbins\u001b[0m\u001b[1;33m=\u001b[0m\u001b[1;32mNone\u001b[0m\u001b[1;33m,\u001b[0m \u001b[0mas_pandas\u001b[0m\u001b[1;33m=\u001b[0m\u001b[1;32mTrue\u001b[0m\u001b[1;33m)\u001b[0m\u001b[1;33m:\u001b[0m\u001b[1;33m\u001b[0m\u001b[0m\n",
      "\u001b[0;31mValueError\u001b[0m: feature_names mismatch: ['Ticket_230080', 'Ticket_C.A. 33112', 'Ticket_250649', 'Ticket_17421', 'Ticket_110413', 'Ticket_2627', 'Ticket_PC 17758', 'Ticket_230433', 'Cabin_C52', 'Ticket_13502', 'Ticket_3101295', 'Ticket_113798', 'Ticket_371110', 'Cabin_D36', 'Ticket_LINE', 'Cabin_D20', 'PassengerId', 'Ticket_1601', 'Cabin_C126', 'Ticket_PC 17757', 'Ticket_19928', 'Ticket_19996', 'Ticket_16966', 'SibSp', 'Ticket_111361', 'Ticket_C.A. 2673', 'Ticket_STON/O2. 3101279', 'Ticket_19950', 'Ticket_PC 17604', 'Ticket_C.A. 2315', 'Ticket_S.O.C. 14879', 'Cabin_B96 B98', 'Ticket_2651', 'Ticket_237736', 'Cabin_F2', 'Ticket_244252', 'Ticket_113781', 'Ticket_113760', 'Cabin_E67', 'Ticket_367226', 'Ticket_P/PP 3381', 'Ticket_F.C.C. 13529', 'Ticket_36928', 'Ticket_347088', 'Ticket_248727', 'Pclass', 'Ticket_2665', 'Ticket_36947', 'Ticket_113505', 'Ticket_244367', 'Ticket_CA 2144', 'Cabin_C124', 'Cabin_B58 B60', 'Ticket_35273', 'Cabin_G6', 'Ticket_367230', 'Ticket_S.C./PARIS 2079', 'Ticket_364516', 'Ticket_31027', 'Ticket_28403', 'Cabin_D17', 'Cabin_E33', 'Ticket_2666', 'Embarked_C', 'Sex_male', 'Ticket_358585', 'Parch', 'Cabin_C125', 'Ticket_PC 17569', 'Embarked_S', 'Ticket_PC 17558', 'Cabin_C65', 'Ticket_11767', 'Ticket_PP 9549', 'Ticket_PC 17572', 'Ticket_239853', 'Ticket_347054', 'Ticket_PC 17582', 'Cabin_F33', 'Cabin_B18', 'Cabin_C23 C25 C27', 'Ticket_2691', 'Ticket_C.A. 37671', 'Embarked_Q', 'Ticket_349909', 'Sex_female', 'Age', 'Ticket_11967', 'Ticket_347742', 'Cabin_B49', 'Ticket_3101278', 'Ticket_382652', 'Ticket_26360', 'Cabin_C78', 'Fare', 'Ticket_347082'] ['f0', 'f1', 'f2', 'f3', 'f4', 'f5', 'f6', 'f7', 'f8', 'f9', 'f10', 'f11', 'f12', 'f13', 'f14', 'f15', 'f16', 'f17', 'f18', 'f19', 'f20', 'f21', 'f22', 'f23', 'f24', 'f25', 'f26', 'f27', 'f28', 'f29', 'f30', 'f31', 'f32', 'f33', 'f34', 'f35', 'f36', 'f37', 'f38', 'f39', 'f40', 'f41', 'f42', 'f43', 'f44', 'f45', 'f46', 'f47', 'f48', 'f49', 'f50', 'f51', 'f52', 'f53', 'f54', 'f55', 'f56', 'f57', 'f58', 'f59', 'f60', 'f61', 'f62', 'f63', 'f64', 'f65', 'f66', 'f67', 'f68', 'f69', 'f70', 'f71', 'f72', 'f73', 'f74', 'f75', 'f76', 'f77', 'f78', 'f79', 'f80', 'f81', 'f82', 'f83', 'f84', 'f85', 'f86', 'f87', 'f88', 'f89', 'f90', 'f91', 'f92', 'f93', 'f94', 'f95']\nexpected Ticket_230080, Ticket_C.A. 33112, Ticket_250649, Ticket_17421, Ticket_110413, Ticket_2627, Ticket_PC 17758, Ticket_230433, Cabin_C52, Ticket_13502, Ticket_3101295, Ticket_113798, Ticket_371110, Cabin_D36, Ticket_LINE, Cabin_D20, PassengerId, Ticket_1601, Cabin_C126, Ticket_PC 17757, Ticket_19928, Ticket_19996, Ticket_16966, SibSp, Ticket_111361, Ticket_C.A. 2673, Ticket_STON/O2. 3101279, Ticket_19950, Ticket_PC 17604, Ticket_C.A. 2315, Ticket_S.O.C. 14879, Cabin_B96 B98, Ticket_2651, Ticket_237736, Cabin_F2, Ticket_244252, Ticket_113781, Ticket_113760, Cabin_E67, Ticket_367226, Ticket_P/PP 3381, Ticket_F.C.C. 13529, Ticket_36928, Ticket_347088, Ticket_248727, Pclass, Ticket_2665, Ticket_36947, Ticket_113505, Ticket_244367, Ticket_CA 2144, Cabin_C124, Cabin_B58 B60, Ticket_35273, Cabin_G6, Ticket_367230, Ticket_S.C./PARIS 2079, Ticket_364516, Ticket_31027, Ticket_28403, Cabin_D17, Cabin_E33, Ticket_2666, Embarked_C, Sex_male, Ticket_358585, Parch, Cabin_C125, Ticket_PC 17569, Embarked_S, Ticket_PC 17558, Cabin_C65, Ticket_11767, Ticket_PP 9549, Ticket_PC 17572, Ticket_239853, Ticket_347054, Ticket_PC 17582, Cabin_F33, Cabin_B18, Cabin_C23 C25 C27, Ticket_2691, Ticket_C.A. 37671, Embarked_Q, Ticket_349909, Sex_female, Age, Ticket_11967, Ticket_347742, Cabin_B49, Ticket_3101278, Ticket_382652, Ticket_26360, Cabin_C78, Fare, Ticket_347082 in input data\ntraining data did not have the following fields: f21, f86, f83, f85, f4, f6, f44, f89, f67, f29, f19, f91, f84, f50, f0, f3, f95, f32, f38, f56, f14, f60, f24, f27, f46, f5, f92, f23, f25, f22, f87, f54, f8, f80, f10, f39, f93, f2, f55, f26, f1, f12, f72, f64, f53, f20, f36, f15, f11, f79, f69, f90, f34, f17, f75, f61, f76, f73, f30, f82, f31, f13, f59, f52, f33, f18, f58, f9, f47, f45, f88, f40, f43, f63, f62, f16, f65, f48, f28, f37, f68, f70, f77, f51, f74, f41, f78, f7, f94, f66, f81, f57, f42, f35, f49, f71"
     ]
    }
   ],
   "source": [
    "eli5.show_prediction(clf,valid_xs[order_list].loc[1])"
   ]
  },
  {
   "cell_type": "code",
   "execution_count": null,
   "metadata": {
    "collapsed": true
   },
   "outputs": [],
   "source": []
  }
 ],
 "metadata": {
  "anaconda-cloud": {},
  "kernelspec": {
   "display_name": "Python [conda root]",
   "language": "python",
   "name": "conda-root-py"
  },
  "language_info": {
   "codemirror_mode": {
    "name": "ipython",
    "version": 3
   },
   "file_extension": ".py",
   "mimetype": "text/x-python",
   "name": "python",
   "nbconvert_exporter": "python",
   "pygments_lexer": "ipython3",
   "version": "3.5.2"
  }
 },
 "nbformat": 4,
 "nbformat_minor": 1
}
